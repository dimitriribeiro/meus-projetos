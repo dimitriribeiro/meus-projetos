{
 "cells": [
  {
   "cell_type": "markdown",
   "id": "8de5d021",
   "metadata": {},
   "source": [
    "# Bibliotecas importadas"
   ]
  },
  {
   "cell_type": "code",
   "execution_count": null,
   "id": "f3c58026",
   "metadata": {},
   "outputs": [],
   "source": [
    "import re\n",
    "import requests\n",
    "import pandas as pd\n",
    "import undetected_chromedriver as uc\n",
    "from bs4 import BeautifulSoup\n",
    "from selenium import webdriver\n",
    "from selenium.webdriver.common.keys import Keys\n",
    "from selenium.webdriver.common.by import By\n",
    "from seleniumbase import Driver\n",
    "from seleniumbase import page_actions"
   ]
  },
  {
   "cell_type": "markdown",
   "id": "a1caa069",
   "metadata": {},
   "source": [
    "# Tornando o Webdriver Indetectável"
   ]
  },
  {
   "cell_type": "code",
   "execution_count": 66,
   "id": "56639239",
   "metadata": {},
   "outputs": [],
   "source": [
    "options = webdriver.ChromeOptions()\n",
    "options.add_argument(\"--headless\")\n",
    "driver = uc.Chrome(use_subprocess=True,options=options)"
   ]
  },
  {
   "cell_type": "markdown",
   "id": "f3a53987",
   "metadata": {},
   "source": [
    "Acessando o site Research Gate"
   ]
  },
  {
   "cell_type": "code",
   "execution_count": 67,
   "id": "ed98b622",
   "metadata": {},
   "outputs": [],
   "source": [
    "driver.get('https://www.researchgate.net')\n",
    "autor = input()"
   ]
  },
  {
   "cell_type": "markdown",
   "id": "f84a322a",
   "metadata": {},
   "source": [
    "Enviando Input informando o autor e acessando seção de autores"
   ]
  },
  {
   "cell_type": "code",
   "execution_count": 68,
   "id": "40d39225",
   "metadata": {},
   "outputs": [],
   "source": [
    "element = driver.find_element(By.CLASS_NAME, 'index-search-field__input')\n",
    "element.send_keys(autor)\n",
    "element = driver.find_element(By.TAG_NAME, 'button')\n",
    "element.click()\n",
    "element = driver.find_element(By.LINK_TEXT, 'Authors')\n",
    "element.click()\n",
    "element = driver.find_elements(By.CLASS_NAME, 'nova-legacy-v-person-item')\n",
    "for ele in element:\n",
    "    condicao = [(1,i)  if i in autor.split() else (i,0) for i in ele.text.split('\\n')][0]\n",
    "    tamanho = len(condicao[0].split())\n",
    "    if tamanho >= len(autor.split()):\n",
    "        elemento = ele.find_elements(By.TAG_NAME, 'a')\n",
    "        elemento.click()"
   ]
  },
  {
   "cell_type": "markdown",
   "id": "c162c6f9",
   "metadata": {},
   "source": [
    "Utilizando Beautiful Soup para raspar os links com a Tag `Article`"
   ]
  },
  {
   "cell_type": "code",
   "execution_count": 74,
   "id": "6fc981df",
   "metadata": {},
   "outputs": [],
   "source": [
    "current_html = driver.page_source\n",
    "soup = BeautifulSoup(current_html, 'html.parser')\n",
    "\n",
    "results = soup.find(\"div\", {\"class\" : \"nova-legacy-c-card nova-legacy-c-card--spacing-xl nova-legacy-c-card--elevation-1-above\"})\n",
    "\n",
    "padrao_artigo = re.compile('[a-z]{11}\\/[0-9]{9,10}')\n",
    "link = []\n",
    "\n",
    "for i in results:\n",
    "    for div in i.find_all('a', {'class':'nova-legacy-e-link nova-legacy-e-link--color-inherit nova-legacy-e-link--theme-bare'}):\n",
    "        if len(re.findall(padrao_artigo, str(div.get('href')))) == 1:\n",
    "            link.append(div.get('href'))"
   ]
  },
  {
   "cell_type": "markdown",
   "id": "3cf29ec1",
   "metadata": {},
   "source": [
    "Construindo a tabela excel com os links de artigos"
   ]
  },
  {
   "cell_type": "code",
   "execution_count": 75,
   "id": "00537814",
   "metadata": {},
   "outputs": [],
   "source": [
    "data = {'Título': [i[51:] for i in link],\n",
    "       'Links': link,\n",
    "       }\n",
    "dados = pd.DataFrame(data)\n",
    "dados.to_excel(f'artigos_{autor}_research_gate.xlsx')"
   ]
  },
  {
   "cell_type": "markdown",
   "id": "fe033966",
   "metadata": {},
   "source": [
    "# Observações"
   ]
  },
  {
   "cell_type": "markdown",
   "id": "8e387b05",
   "metadata": {},
   "source": [
    "Esse projeto foi bem divertido de fazer. Comecei tentando ele no colab, mas infelizmente tive problema com captcha do site `Research Gate`.Por esse motivo, preferi escrevê-lo no Jupyter Notebook. Nesse notebook ficou com menos empecilhos para alcançar seu objetivo, pois aqui consegui tornar, depois de algumas pesquisas, tornar o `WebDriver` indetectável, segundo a biblioteca importada `undetected_chromedriver`. Isso foi uma descoberta feliz, pois estava tendo muitos problemas com a detecção de robôs dos sites. Enfim, espero que gostem e se quiserem colaborar ou fazer críticas ou dar dicas de biblioteca de raspagem de dados, meu e-mail é: dimitri.limaf@outlook.com"
   ]
  }
 ],
 "metadata": {
  "kernelspec": {
   "display_name": "Python 3 (ipykernel)",
   "language": "python",
   "name": "python3"
  },
  "language_info": {
   "codemirror_mode": {
    "name": "ipython",
    "version": 3
   },
   "file_extension": ".py",
   "mimetype": "text/x-python",
   "name": "python",
   "nbconvert_exporter": "python",
   "pygments_lexer": "ipython3",
   "version": "3.9.13"
  }
 },
 "nbformat": 4,
 "nbformat_minor": 5
}
