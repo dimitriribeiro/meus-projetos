{
  "nbformat": 4,
  "nbformat_minor": 0,
  "metadata": {
    "colab": {
      "provenance": []
    },
    "kernelspec": {
      "name": "python3",
      "display_name": "Python 3"
    },
    "language_info": {
      "name": "python"
    }
  },
  "cells": [
    {
      "cell_type": "markdown",
      "source": [
        "<!DOCTYPE html>\n",
        "<html>\n",
        "<body>\n",
        "\n",
        "  <h1>Conversor de CSV para SQL</h1>\n",
        "  <p>Estudando SQL e buscando base de dados para praticar essa linguagem de consulta, decidi fazer meu próprio conversor em Python. Esse vai ser um desafio interessante pois vai envolver conteúdos de revisão da linguagem python pura, como manipulação de arquivos texto. </p>\n",
        "  <h3>Algoritmo</h3>\n",
        "  <ul>\n",
        "    <li>Carregar arquivo csv</li>\n",
        "    <li>Carregar bibliotecas necessárias\n",
        "      <ul>\n",
        "          <li>Por enquanto apenas funçõẽs Built-in do Python</li>\n",
        "      </ul>\n",
        "    </li>\n",
        "    <li>Iniciar processo de conversão\n",
        "      <ul>\n",
        "        <li>Identificar o separador</li>\n",
        "        <li>Identificar as colunas</li>\n",
        "        <li>Identificar tipos de dados</li>\n",
        "        <li>Atribuir os valores encontrados nos tópicos supracitados em variáveis</li>\n",
        "      </ul>\n",
        "    </li>\n",
        "    <li>Identificar primeira linha de dados</li>\n",
        "    <li>Criar tabela na linguagem sql</li>\n",
        "    <li>Converter linhas do csv para linguagem sql</li>\n",
        "\n",
        "  </ul>\n",
        "  <img src='https://www.zuar.com/blog/content/images/size/w2000/2022/10/CSV-to-SQL.png'>\n",
        "\n",
        "</body>\n",
        "</html>\n",
        "\n"
      ],
      "metadata": {
        "id": "lSisOokga5zP"
      }
    },
    {
      "cell_type": "markdown",
      "source": [
        "# Carregando Bibliotecas"
      ],
      "metadata": {
        "id": "g_dnYUFYfAYC"
      }
    },
    {
      "cell_type": "markdown",
      "source": [
        "- Nenhum foi necessária até o momento"
      ],
      "metadata": {
        "id": "iJCId8jqCSNp"
      }
    },
    {
      "cell_type": "markdown",
      "source": [
        "# Iniciando Algoritmo"
      ],
      "metadata": {
        "id": "1PimA5v4frF3"
      }
    },
    {
      "cell_type": "markdown",
      "source": [
        "- Lendo o arquivo csv e atribuindo esses dados a uma variável"
      ],
      "metadata": {
        "id": "HFn7R8E1BNqj"
      }
    },
    {
      "cell_type": "code",
      "execution_count": 1,
      "metadata": {
        "id": "E_37hYDAaruO"
      },
      "outputs": [],
      "source": [
        "csv = open('arquivo_csv_teste.csv', 'w')\n",
        "sample = '''\"geolocation_zip_code_prefix\",\"geolocation_lat\",\"geolocation_lng\",\"geolocation_city\",\"geolocation_state\"\n",
        "\"01037\",-23.54562128115268,-46.63929204800168,sao paulo,SP\n",
        "\"01046\",-23.546081127035535,-46.64482029837157,sao paulo,SP\n",
        "\"01046\",-23.54612896641469,-46.64295148361138,sao paulo,SP\n",
        "\"01041\",-23.5443921648681,-46.63949930627844,sao paulo,SP\n",
        "\"01035\",-23.541577961711493,-46.64160722329613,sao paulo,SP\n",
        "\"01012\",-23.547762303364266,-46.63536053788448,são paulo,SP\n",
        "\"01047\",-23.546273112412678,-46.64122516971552,sao paulo,SP\n",
        "\"01013\",-23.546923208436723,-46.6342636964915,sao paulo,SP\n",
        "\"01029\",-23.543769055769133,-46.63427784085132,sao paulo,SP\n",
        "\"01011\",-23.547639550320632,-46.63603162315495,sao paulo,SP\n",
        "\"01013\",-23.547325128224376,-46.63418378613892,sao paulo,SP\n",
        "\"01032\",-23.53841810407414,-46.634778375266734,sao paulo,SP\n",
        "\"01014\",-23.546435343326205,-46.63383023397196,sao paulo,SP\n",
        "'''\n",
        "csv.write(sample)\n",
        "with open('arquivo_csv_teste.csv', 'r') as csv:\n",
        "  arquivo_sql= csv.readlines()"
      ]
    },
    {
      "cell_type": "markdown",
      "source": [
        "- Formando a sintaxe SQL"
      ],
      "metadata": {
        "id": "6jzR4ei_BbUX"
      }
    },
    {
      "cell_type": "code",
      "source": [
        "lista_sql_create = ['CREATE TABLE ', f'{csv.name}'.replace('.csv', ''), '(', '\\n']\n",
        "lista_sql_insert = ['INSERT INTO ', f'{csv.name}'.replace('.csv', ''), '(', '\\n']\n",
        "tipos_sql_dados = ['INT','DOUBLE PRECISION', 'DOUBLE PRECISION', 'VARCHAR', 'VARCHAR'] # tem que ser feita coloca na função da classe\n",
        "sizes = [10,0,0,50,2] # tem que ser feita coloca na função da classe\n",
        "\n",
        "for size in sizes:\n",
        "  if size == 0:\n",
        "    indice = sizes.index(size)\n",
        "    sizes.remove(size)\n",
        "    sizes.insert(indice, '')\n",
        "\n",
        "\n",
        "for i,linha in enumerate(arquivo_sql):\n",
        "  if i == 0:\n",
        "    indice_para_size_tipos = 0\n",
        "\n",
        "    for elemento in linha.split(','):\n",
        "      \n",
        "      if elemento == linha.split(',')[-1]:\n",
        "        if sizes[indice_para_size_tipos] == '':\n",
        "          lista_sql_create.append('\\t'+elemento.replace('\\n', '')+ f' {tipos_sql_dados[indice_para_size_tipos]}{sizes[indice_para_size_tipos]}')\n",
        "          lista_sql_insert.append('\\t'+elemento)\n",
        "        else:\n",
        "          lista_sql_create.append('\\t'+elemento.replace('\\n', '')+ f' {tipos_sql_dados[indice_para_size_tipos]}({sizes[indice_para_size_tipos]})')\n",
        "          lista_sql_insert.append('\\t'+elemento)\n",
        "\n",
        "      else:\n",
        "        if sizes[indice_para_size_tipos] == '':\n",
        "          lista_sql_create.append('\\t'+elemento.replace('\\n', '')+ f' {tipos_sql_dados[indice_para_size_tipos]}{sizes[indice_para_size_tipos]}'+',\\n')\n",
        "          lista_sql_insert.append('\\t'+elemento+','+'\\n')\n",
        "        else:\n",
        "          lista_sql_create.append('\\t'+elemento.replace('\\n', '')+ f' {tipos_sql_dados[indice_para_size_tipos]}({sizes[indice_para_size_tipos]})'+',\\n')\n",
        "          lista_sql_insert.append('\\t'+elemento+','+'\\n')\n",
        "      indice_para_size_tipos += 1\n",
        "\n",
        "    lista_sql_create.append(');\\n')\n",
        "    lista_sql_insert.append(') VALUES ')\n",
        "  else:\n",
        "    lista_sql_insert.append('(')\n",
        "    for dado in linha.split(','):\n",
        "      if '\"' in dado:\n",
        "        dado = dado.replace('\"', \"'\")\n",
        "        lista_sql_insert.append(f\"{dado}\"+',')\n",
        "      elif '.' in dado and '-' in dado:\n",
        "        dado = float(dado)\n",
        "        lista_sql_insert.append(f\"{dado}\"+',')\n",
        "      else:\n",
        "        lista_sql_insert.append(f\"'{dado}'\"+',')\n",
        "    lista_sql_insert.append('),')\n",
        "\n",
        "sql_create = ''.join(lista_sql_create)\n",
        "sql_insert = ''.join(lista_sql_insert).replace(',)', ')')[:-1]"
      ],
      "metadata": {
        "id": "omg2kDJ0hQ6A"
      },
      "execution_count": 3,
      "outputs": []
    },
    {
      "cell_type": "markdown",
      "source": [
        "- Teste piloto"
      ],
      "metadata": {
        "id": "feHvgnoPBlGG"
      }
    },
    {
      "cell_type": "code",
      "source": [
        "print(sql_create.replace('\"', ''))\n",
        "print(sql_insert.replace('\"', ''))"
      ],
      "metadata": {
        "colab": {
          "base_uri": "https://localhost:8080/"
        },
        "id": "knvdl0YxwAmh",
        "outputId": "b6df3f4b-a5c1-4005-fe5f-eade85184c26"
      },
      "execution_count": 4,
      "outputs": [
        {
          "output_type": "stream",
          "name": "stdout",
          "text": [
            "CREATE TABLE arquivo_csv_teste(\n",
            "\tgeolocation_zip_code_prefix INT(10),\n",
            "\tgeolocation_lat DOUBLE PRECISION,\n",
            "\tgeolocation_lng DOUBLE PRECISION,\n",
            "\tgeolocation_city VARCHAR(50),\n",
            "\tgeolocation_state VARCHAR(2));\n",
            "\n",
            "INSERT INTO arquivo_csv_teste(\n",
            "\tgeolocation_zip_code_prefix,\n",
            "\tgeolocation_lat,\n",
            "\tgeolocation_lng,\n",
            "\tgeolocation_city,\n",
            "\tgeolocation_state\n",
            ") VALUES ('01037',-23.54562128115268,-46.63929204800168,'sao paulo','SP\n",
            "'),('01046',-23.546081127035535,-46.64482029837157,'sao paulo','SP\n",
            "'),('01046',-23.54612896641469,-46.64295148361138,'sao paulo','SP\n",
            "'),('01041',-23.5443921648681,-46.63949930627844,'sao paulo','SP\n",
            "'),('01035',-23.541577961711493,-46.64160722329613,'sao paulo','SP\n",
            "'),('01012',-23.547762303364266,-46.63536053788448,'são paulo','SP\n",
            "'),('01047',-23.546273112412678,-46.64122516971552,'sao paulo','SP\n",
            "'),('01013',-23.546923208436723,-46.6342636964915,'sao paulo','SP\n",
            "'),('01029',-23.543769055769133,-46.63427784085132,'sao paulo','SP\n",
            "'),('01011',-23.547639550320632,-46.63603162315495,'sao paulo','SP\n",
            "'),('01013',-23.547325128224376,-46.63418378613892,'sao paulo','SP\n",
            "'),('01032',-23.53841810407414,-46.634778375266734,'sao paulo','SP\n",
            "'),('01014',-23.546435343326205,-46.63383023397196,'sao paulo','SP\n",
            "')\n"
          ]
        }
      ]
    },
    {
      "cell_type": "markdown",
      "source": [
        "- Baixando o arquivo em formato .SQL"
      ],
      "metadata": {
        "id": "346Fn_PwByaj"
      }
    },
    {
      "cell_type": "code",
      "source": [
        "arquivo_sql = open('nome_arquivo_final.sql', 'w')\n",
        "arquivo_sql.write(sql_create)\n",
        "arquivo_sql.write(sql_insert)\n",
        "arquivo_sql.write(';')\n",
        "arquivo_sql.close()"
      ],
      "metadata": {
        "id": "PnqbBYUSy-Zr"
      },
      "execution_count": 34,
      "outputs": []
    }
  ]
}